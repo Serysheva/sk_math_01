{
 "cells": [
  {
   "cell_type": "code",
   "execution_count": 2,
   "metadata": {},
   "outputs": [],
   "source": [
    "import numpy as np"
   ]
  },
  {
   "cell_type": "code",
   "execution_count": null,
   "metadata": {
    "collapsed": true
   },
   "outputs": [],
   "source": [
    "# как создать вектор?\n"
   ]
  },
  {
   "cell_type": "code",
   "execution_count": 4,
   "metadata": {},
   "outputs": [
    {
     "name": "stdout",
     "output_type": "stream",
     "text": [
      "[1 2 3] <class 'numpy.ndarray'>\n"
     ]
    }
   ],
   "source": [
    "# как одномерный массив numpy\n",
    "a=np.array([1,2,3])\n",
    "print(a, type(a))"
   ]
  },
  {
   "cell_type": "code",
   "execution_count": 5,
   "metadata": {},
   "outputs": [
    {
     "data": {
      "text/plain": [
       "array([1., 2., 3.])"
      ]
     },
     "execution_count": 5,
     "metadata": {},
     "output_type": "execute_result"
    }
   ],
   "source": [
    "np.array([1,2,3], dtype='float')"
   ]
  },
  {
   "cell_type": "code",
   "execution_count": 6,
   "metadata": {},
   "outputs": [
    {
     "name": "stdout",
     "output_type": "stream",
     "text": [
      "[1, 2, 3] <class 'list'>\n",
      "[1 2 3] <class 'numpy.ndarray'>\n"
     ]
    }
   ],
   "source": [
    "# преобразовать из списка list\n",
    "x=[1,2,3]\n",
    "x_arr=np.array(x)\n",
    "print(x, type(x))\n",
    "print(x_arr, type(x_arr))"
   ]
  },
  {
   "cell_type": "code",
   "execution_count": 8,
   "metadata": {},
   "outputs": [
    {
     "data": {
      "text/plain": [
       "array([0., 0., 0., 0., 0.])"
      ]
     },
     "execution_count": 8,
     "metadata": {},
     "output_type": "execute_result"
    }
   ],
   "source": [
    "# нулевой вектор\n",
    "np.zeros(5) "
   ]
  },
  {
   "cell_type": "code",
   "execution_count": 9,
   "metadata": {},
   "outputs": [
    {
     "data": {
      "text/plain": [
       "array([1., 1., 1., 1., 1., 1., 1., 1.])"
      ]
     },
     "execution_count": 9,
     "metadata": {},
     "output_type": "execute_result"
    }
   ],
   "source": [
    "# вектор из единиц\n",
    "np.ones(8)"
   ]
  },
  {
   "cell_type": "code",
   "execution_count": 10,
   "metadata": {},
   "outputs": [
    {
     "data": {
      "text/plain": [
       "array([10, 15, 20, 25, 30, 35, 40, 45])"
      ]
     },
     "execution_count": 10,
     "metadata": {},
     "output_type": "execute_result"
    }
   ],
   "source": [
    "# массив чисел по порядку\n",
    "np.arange(10,50, 5)"
   ]
  },
  {
   "cell_type": "code",
   "execution_count": 11,
   "metadata": {},
   "outputs": [
    {
     "data": {
      "text/plain": [
       "array([-4,  1,  1, -3, -2, -2,  1,  1,  0, -1])"
      ]
     },
     "execution_count": 11,
     "metadata": {},
     "output_type": "execute_result"
    }
   ],
   "source": [
    "# случайный вектор\n",
    "np.random.randint(-4, 2, 10) # dim=10, случаные целые числа от -4 до 2"
   ]
  },
  {
   "cell_type": "code",
   "execution_count": 12,
   "metadata": {},
   "outputs": [
    {
     "name": "stdout",
     "output_type": "stream",
     "text": [
      "Series:\n",
      " 0     65\n",
      "1     70\n",
      "2    120\n",
      "3     35\n",
      "dtype: int64\n"
     ]
    }
   ],
   "source": [
    "# преобразовать из pandas Series\n",
    "import pandas as pd\n",
    "data = [65, 70, 120, 35]\n",
    "s = pd.Series(data)\n",
    "print('Series:\\n',s)"
   ]
  },
  {
   "cell_type": "code",
   "execution_count": 13,
   "metadata": {},
   "outputs": [
    {
     "name": "stdout",
     "output_type": "stream",
     "text": [
      "vector:\n",
      " [ 65  70 120  35]\n",
      "type of x: <class 'numpy.ndarray'>\n"
     ]
    }
   ],
   "source": [
    "x = s.values # возвращает значения s\n",
    "print('vector:\\n',x)\n",
    "print('type of x:',type(x))"
   ]
  },
  {
   "cell_type": "code",
   "execution_count": 14,
   "metadata": {},
   "outputs": [
    {
     "name": "stdout",
     "output_type": "stream",
     "text": [
      "Data Frame:\n",
      "     $$  2.Area  3.Rooms  4.Floor  5.Demo\n",
      "0   65      50        3        5       8\n",
      "1   70      52        2       12       4\n",
      "2  120      80        1       10       5\n",
      "3   35      33        1        3      10\n"
     ]
    }
   ],
   "source": [
    "# преобразовать из pandas Data Frame\n",
    "d = {'$$': [65, 70, 120, 35], '2.Area': [50, 52, 80, 33],'3.Rooms':[3,2,1,1], \n",
    "     '4.Floor':[5,12,10,3], '5.Demo':[8,4,5,10]}\n",
    "df = pd.DataFrame(d)\n",
    "print('Data Frame:\\n',df)"
   ]
  },
  {
   "cell_type": "code",
   "execution_count": 15,
   "metadata": {},
   "outputs": [
    {
     "name": "stdout",
     "output_type": "stream",
     "text": [
      "Matrix:\n",
      " [[ 65  50   3   5   8]\n",
      " [ 70  52   2  12   4]\n",
      " [120  80   1  10   5]\n",
      " [ 35  33   1   3  10]]\n"
     ]
    }
   ],
   "source": [
    "A = df.values # возвращает значения df\n",
    "print('Matrix:\\n',A)"
   ]
  },
  {
   "cell_type": "code",
   "execution_count": 29,
   "metadata": {},
   "outputs": [
    {
     "name": "stdout",
     "output_type": "stream",
     "text": [
      "Second apartment vector:\n",
      " [70 52  2 12  4]\n",
      "type of x: <class 'numpy.ndarray'>\n"
     ]
    }
   ],
   "source": [
    "x=A[1] # вторая строка матрицы А\n",
    "print('Second apartment vector:\\n',x)\n",
    "print('type of x:',type(x))"
   ]
  },
  {
   "cell_type": "code",
   "execution_count": 18,
   "metadata": {},
   "outputs": [
    {
     "name": "stdout",
     "output_type": "stream",
     "text": [
      "$$ vector:\n",
      " [ 65  70 120  35]\n"
     ]
    }
   ],
   "source": [
    "y=A[:,0] # первый столбец матрицы А\n",
    "print('$$ vector:\\n',y)"
   ]
  },
  {
   "cell_type": "code",
   "execution_count": 19,
   "metadata": {},
   "outputs": [
    {
     "name": "stdout",
     "output_type": "stream",
     "text": [
      "$$ of 3 apartment: 120\n"
     ]
    }
   ],
   "source": [
    "# индексация векторов - поиск нужной координаты\n",
    "print('$$ of 3 apartment:',y[2]) # третья координата"
   ]
  },
  {
   "cell_type": "code",
   "execution_count": 30,
   "metadata": {},
   "outputs": [
    {
     "name": "stdout",
     "output_type": "stream",
     "text": [
      "Number of apartments = dim(x): 5\n"
     ]
    }
   ],
   "source": [
    "# размерность вектора\n",
    "print('Number of apartments = dim(x):', len(x))"
   ]
  },
  {
   "cell_type": "code",
   "execution_count": 31,
   "metadata": {},
   "outputs": [
    {
     "name": "stdout",
     "output_type": "stream",
     "text": [
      "a+b: [ 7  9 11]\n",
      "2a: [2 4 6]\n"
     ]
    }
   ],
   "source": [
    "# сумма векторов и умножение на число\n",
    "a=np.array([1,2,3])\n",
    "b=np.array([6,7,8])\n",
    "print('a+b:',a+b)\n",
    "print('2a:',2*a)"
   ]
  },
  {
   "cell_type": "code",
   "execution_count": 32,
   "metadata": {},
   "outputs": [
    {
     "name": "stdout",
     "output_type": "stream",
     "text": [
      "a+b: [1, 2, 3, 6, 7, 8]\n",
      "2a: [1, 2, 3, 1, 2, 3]\n"
     ]
    }
   ],
   "source": [
    "# сумма списков и умножение на число не является векторной операцией!\n",
    "a_list=[1,2,3]\n",
    "b_list=[6,7,8]\n",
    "print('a+b:',a_list+b_list)\n",
    "print('2a:',2*a_list)"
   ]
  },
  {
   "cell_type": "code",
   "execution_count": 33,
   "metadata": {},
   "outputs": [
    {
     "name": "stdout",
     "output_type": "stream",
     "text": [
      "linear combination: [17 18 25]\n"
     ]
    }
   ],
   "source": [
    "# линейная комбинация с коэффициентами 2, 2, 3\n",
    "a=np.array([1,2,3])\n",
    "b=np.array([6,7,8])\n",
    "c=np.array([1,0,1])\n",
    "\n",
    "d=2*a+2*b+3*c\n",
    "print('linear combination:',d)"
   ]
  },
  {
   "cell_type": "code",
   "execution_count": 34,
   "metadata": {},
   "outputs": [
    {
     "name": "stdout",
     "output_type": "stream",
     "text": [
      "scalar product: 44\n",
      "coordinate product: [ 6 14 24]\n"
     ]
    }
   ],
   "source": [
    "# скалярное произведение\n",
    "\n",
    "s=np.dot(a,b)\n",
    "print('scalar product:',s)\n",
    "\n",
    "# покоординатное умножение\n",
    "print('coordinate product:',a*b)"
   ]
  },
  {
   "cell_type": "code",
   "execution_count": 35,
   "metadata": {},
   "outputs": [
    {
     "name": "stdout",
     "output_type": "stream",
     "text": [
      "scalar product: 44\n"
     ]
    }
   ],
   "source": [
    "# скалярное произведение - еще один способ\n",
    "s1=a@b\n",
    "print('scalar product:',s1)"
   ]
  },
  {
   "cell_type": "code",
   "execution_count": 36,
   "metadata": {},
   "outputs": [
    {
     "name": "stdout",
     "output_type": "stream",
     "text": [
      "length of a: 3.7416573867739413\n"
     ]
    }
   ],
   "source": [
    "# длина вектора\n",
    "l=np.linalg.norm(a)\n",
    "print('length of a:',l)"
   ]
  },
  {
   "cell_type": "code",
   "execution_count": 37,
   "metadata": {},
   "outputs": [
    {
     "name": "stdout",
     "output_type": "stream",
     "text": [
      "a_norm: [0.26726124 0.53452248 0.80178373]\n",
      "length of a_norm: 1.0\n"
     ]
    }
   ],
   "source": [
    "# нормировка\n",
    "a_norm=a/np.linalg.norm(a)\n",
    "print('a_norm:',a_norm)\n",
    "print('length of a_norm:',np.linalg.norm(a_norm))"
   ]
  },
  {
   "cell_type": "code",
   "execution_count": 38,
   "metadata": {},
   "outputs": [
    {
     "name": "stdout",
     "output_type": "stream",
     "text": [
      "a: [1 2 1]\n",
      "b: [2 4 2]\n",
      "c: [-1  1 -1]\n"
     ]
    }
   ],
   "source": [
    "#пропорциональность и ортогональность\n",
    "a=np.array([1,2,1])\n",
    "b=a*2\n",
    "c=np.array([-1,1,-1])\n",
    "print('a:',a)\n",
    "print('b:',b)\n",
    "print('c:',c)"
   ]
  },
  {
   "cell_type": "code",
   "execution_count": null,
   "metadata": {},
   "outputs": [],
   "source": [
    "#пропорциональность и ортогональность\n",
    "print(\"(a,b):\",np.dot(a,b))\n",
    "print(\"(a,c):\",np.dot(a,c))\n",
    "print(\"(b,c):\",np.dot(b,c))"
   ]
  },
  {
   "cell_type": "code",
   "execution_count": null,
   "metadata": {},
   "outputs": [],
   "source": [
    "# попарная ортогональность - да\n",
    "a=np.array([1,0,1])\n",
    "b=np.array([0,1,0])\n",
    "c=np.array([1,0,-1])\n",
    "print('a:',a)\n",
    "print('b:',b)\n",
    "print('c:',c)"
   ]
  },
  {
   "cell_type": "code",
   "execution_count": null,
   "metadata": {},
   "outputs": [],
   "source": [
    "# попарная ортогональность - да\n",
    "print('(a,b):',np.dot(a,b))\n",
    "print('(b,c):',np.dot(a,b))\n",
    "print('(a,c):',np.dot(a,c))"
   ]
  },
  {
   "cell_type": "code",
   "execution_count": null,
   "metadata": {},
   "outputs": [],
   "source": [
    "# попарная ортогональность - нет\n",
    "c1=np.array([1,0,4])\n",
    "print('a:',a)\n",
    "print('b:',b)\n",
    "print('с1:',c1)"
   ]
  },
  {
   "cell_type": "code",
   "execution_count": null,
   "metadata": {},
   "outputs": [],
   "source": [
    "# попарная ортогональность - нет\n",
    "print('(a,b):',a@b)\n",
    "print('(b,c1):',b@c1)\n",
    "print('(a,c1):',a@c1)"
   ]
  },
  {
   "cell_type": "code",
   "execution_count": null,
   "metadata": {
    "collapsed": true
   },
   "outputs": [],
   "source": []
  }
 ],
 "metadata": {
  "kernelspec": {
   "display_name": "Python 3",
   "language": "python",
   "name": "python3"
  },
  "language_info": {
   "codemirror_mode": {
    "name": "ipython",
    "version": 3
   },
   "file_extension": ".py",
   "mimetype": "text/x-python",
   "name": "python",
   "nbconvert_exporter": "python",
   "pygments_lexer": "ipython3",
   "version": "3.7.3"
  }
 },
 "nbformat": 4,
 "nbformat_minor": 2
}
